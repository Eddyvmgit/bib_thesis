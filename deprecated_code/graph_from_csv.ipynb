{
 "cells": [
  {
   "cell_type": "code",
   "execution_count": 2,
   "metadata": {},
   "outputs": [
    {
     "name": "stderr",
     "output_type": "stream",
     "text": [
      "/opt/anaconda3/lib/python3.7/site-packages/networkx/readwrite/pajek.py:77: UserWarning: Node attribute viz is not processed. Non-string attribute.\n",
      "  'Non-string attribute'))\n",
      "/opt/anaconda3/lib/python3.7/site-packages/networkx/readwrite/pajek.py:96: UserWarning: Edge attribute viz is not processed. Non-string attribute.\n",
      "  'Non-string attribute'))\n"
     ]
    }
   ],
   "source": [
    "import csv\n",
    "import numpy as np\n",
    "from collections import defaultdict\n",
    "import networkx as nx\n",
    "import igraph as ig\n",
    "import matplotlib.pyplot as plt\n",
    "\n",
    "group_matches_dictionary = defaultdict(list)\n",
    "parent_node_list = []\n",
    "name = \"Siponen2020\"\n",
    "\n",
    "\n",
    "with open('/Users/ydde/Desktop/Bachelorgit/adjazenz_lists/' + name + '.csv') as csvfile:\n",
    "    reader = csv.DictReader(csvfile)\n",
    "    for row in reader:\n",
    "        parentnode = row['parentnode']\n",
    "        parent_node_list.append(parentnode)\n",
    "        childnodes = row['childnodes']\n",
    "        for childnode in childnodes.split(\",\"):\n",
    "            group_matches_dictionary[parentnode].append(childnode)\n",
    "\n",
    "\n",
    "directed_graph = nx.DiGraph()\n",
    "\n",
    "#add parent nodes to have them in a specific place\n",
    "for parent in parent_node_list:\n",
    "    directed_graph.add_node(parent)\n",
    "\n",
    "for key in group_matches_dictionary:\n",
    "    for line in group_matches_dictionary[key]:\n",
    "        directed_graph.add_edge(key, line)\n",
    "\n",
    "for node_id in directed_graph.nodes():\n",
    "    directed_graph.node[node_id]['viz'] = {'color': {'r': 105, 'g': 105, 'b': 105, 'a': 0}, 'size': 29}\n",
    "\n",
    "for parent_id in parent_node_list:\n",
    "    directed_graph.node[parent_id]['viz'] = {'color': {'r': 69, 'g': 91, 'b': 150, 'a': 0}, 'size': 29.5}\n",
    "\n",
    "    \n",
    "#{'color': {'r': 211, 'g': 211, 'b': 211, 'a': 0}})\n",
    "edges = directed_graph.edges()\n",
    "for edge in edges:\n",
    "    source = edge[0]\n",
    "    target = edge[1]\n",
    "    if source in parent_node_list:\n",
    "        if target in parent_node_list:\n",
    "            directed_graph[source][target]['viz'] = {'color':  {'r': 69, 'g': 91, 'b': 150, 'a': 1}}\n",
    "            continue\n",
    "    directed_graph[source][target]['viz'] = {'color': {'r': 105, 'g': 105, 'b': 105, 'a': 1}}\n",
    "\n",
    "nx.write_gexf(directed_graph, \"test2.gexf\")\n",
    "nx.write_pajek(directed_graph, \"test2.net\")\n",
    "\n",
    "\n",
    "\n",
    "adjazenz_matrix = nx.adjacency_matrix(directed_graph)\n",
    "dense_adjazenz_matrix = adjazenz_matrix.todense()\n",
    "bibliographic_coupling_adjazenz_matrix = np.matmul(dense_adjazenz_matrix, dense_adjazenz_matrix.transpose())\n",
    "bibliographic_coupling_graph = nx.from_numpy_matrix(bibliographic_coupling_adjazenz_matrix, create_using = nx.Graph())\n",
    "bibliographic_coupling_graph.remove_edges_from(nx.selfloop_edges(bibliographic_coupling_graph))\n",
    "bibliographic_coupling_graph.remove_nodes_from(list(nx.isolates(bibliographic_coupling_graph)))\n",
    "\n",
    "#re mapping nodes\n",
    "mapping = {}\n",
    "integer_id = 0\n",
    "for parent_id in parent_node_list:\n",
    "    mapping.update({integer_id: parent_id})\n",
    "    integer_id += 1\n",
    "bibliographic_coupling_graph = nx.relabel_nodes(bibliographic_coupling_graph, mapping)\n",
    "\n",
    "\n",
    "nx.write_gexf(bibliographic_coupling_graph, \"test.gexf\", version=\"1.2draft\")\n",
    "\n",
    "\n",
    "\n",
    "\n",
    "\n",
    "\n",
    "\n",
    "\n",
    "\n",
    "\n",
    "\n",
    "\n",
    "\n",
    "      \n",
    "#GRAPH MANIPULATION\n",
    "\n",
    "#SHOW ONLY PARENT NODE GRAPHS\n",
    "\n",
    "#SHOW OTHER GRAPH\n",
    "\n",
    "#HOW DO WE CALCULATE I GUESS WE CALCULATE ONLY THE PARENT NODE RELATIONS RIGHT?\n",
    "\n",
    "#IS THE WEIGHTING INTUITIVE?\n",
    "\n",
    "#Late night trying other thinngy\n",
    "\n",
    "\n"
   ]
  },
  {
   "cell_type": "code",
   "execution_count": null,
   "metadata": {},
   "outputs": [],
   "source": [
    "\n"
   ]
  },
  {
   "cell_type": "code",
   "execution_count": null,
   "metadata": {},
   "outputs": [],
   "source": [
    "\n"
   ]
  },
  {
   "cell_type": "code",
   "execution_count": null,
   "metadata": {},
   "outputs": [],
   "source": []
  },
  {
   "cell_type": "code",
   "execution_count": null,
   "metadata": {},
   "outputs": [],
   "source": []
  }
 ],
 "metadata": {
  "kernelspec": {
   "display_name": "Python 3",
   "language": "python",
   "name": "python3"
  },
  "language_info": {
   "codemirror_mode": {
    "name": "ipython",
    "version": 3
   },
   "file_extension": ".py",
   "mimetype": "text/x-python",
   "name": "python",
   "nbconvert_exporter": "python",
   "pygments_lexer": "ipython3",
   "version": "3.7.4"
  }
 },
 "nbformat": 4,
 "nbformat_minor": 2
}
