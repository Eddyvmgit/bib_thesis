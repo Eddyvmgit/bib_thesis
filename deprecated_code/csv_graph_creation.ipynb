{
 "cells": [
  {
   "cell_type": "code",
   "execution_count": 8,
   "metadata": {
    "scrolled": false
   },
   "outputs": [
    {
     "name": "stdout",
     "output_type": "stream",
     "text": [
      "created list successfully\n"
     ]
    }
   ],
   "source": [
    "import re\n",
    "import matplotlib as plt\n",
    "import pandas as pd\n",
    "import numpy as np\n",
    "import json\n",
    "import matplotlib\n",
    "import csv\n",
    "from collections import defaultdict\n",
    "\n",
    "# files\n",
    "publication_name = \"Siponen2020\"\n",
    "file_classified = open('./classification_first_iteration_curated/' + publication_name + '_classified', 'r')\n",
    "file_unclassified = open('./classification_first_iteration_curated/' + publication_name + '_unclassified', 'r')\n",
    "\n",
    "# patterns\n",
    "pattern_sublime = '(?<=<t>)(.*?)(?=</t>)'\n",
    "pattern_scraping = '(?<=<t>)(.*?)(?=<t>)'\n",
    "\n",
    "# structures\n",
    "distinctive_node_list = []\n",
    "group_matches_dictionary = defaultdict(list)\n",
    "\n",
    "# functions\n",
    "def classified(line):\n",
    "    if '<fc>' not in line:\n",
    "        if '<t>' in line:\n",
    "            return True\n",
    "\n",
    "def get_title(line):\n",
    "    title_match = None\n",
    "    if ('</t>' in line):\n",
    "        # tags created with sublime\n",
    "        title_match = re.search(pattern_sublime, line)\n",
    "    else:\n",
    "        #tags created with the scraping algorithm\n",
    "        title_match = re.search(pattern_scraping, line)\n",
    "    if title_match == None:\n",
    "        print(\"no closing tag: \" + line)\n",
    "    title = title_match.group(0)\n",
    "    title = title.lower()\n",
    "    return title\n",
    "\n",
    "def construct_lists(file):\n",
    "    count = 0\n",
    "    current_parent_reference = ''\n",
    "    for line in file:\n",
    "        if (classified(line)):\n",
    "            date = re.search(\"\\d{4}\", line)\n",
    "            title = get_title(line)\n",
    "            alphanumeric_filter = filter(str.isalnum, title)\n",
    "            ref_id = \"\".join(alphanumeric_filter)\n",
    "            if date != None:\n",
    "                ref_id += date.group(0)\n",
    "            if not (ref_id in distinctive_node_list):\n",
    "                distinctive_node_list.append(ref_id)\n",
    "            if '<PARENTARTICLE>' in line:\n",
    "                count += 1\n",
    "                current_parent_reference = ref_id\n",
    "                continue\n",
    "            group_matches_dictionary[current_parent_reference].append(ref_id)\n",
    "    return count\n",
    "\n",
    "if (construct_lists(file_classified) == construct_lists(file_unclassified)):\n",
    "    print(\"created list successfully\")\n",
    "else:\n",
    "    raise ValueError('number of parental nodes do not match')\n",
    "\n",
    "#creating adjazenzlist in excel\n",
    "with open('./adjazenz_lists/' + publication_name + '.csv', 'w') as output:\n",
    "    writer = csv.writer(output)\n",
    "    writer.writerow([\"parentnode\", \"childnodes\"])\n",
    "    for parent, childlist in group_matches_dictionary.items():\n",
    "        childlist_string = ''\n",
    "        for child in childlist:\n",
    "            childlist_string += child + ','\n",
    "        writer.writerow([parent, childlist_string[0:-1]])\n"
   ]
  },
  {
   "cell_type": "code",
   "execution_count": null,
   "metadata": {},
   "outputs": [],
   "source": []
  },
  {
   "cell_type": "code",
   "execution_count": null,
   "metadata": {},
   "outputs": [],
   "source": [
    "\n",
    "\n",
    "\n",
    "\n",
    "\n",
    "\n",
    "\n"
   ]
  },
  {
   "cell_type": "code",
   "execution_count": null,
   "metadata": {},
   "outputs": [],
   "source": []
  }
 ],
 "metadata": {
  "kernelspec": {
   "display_name": "Python 3",
   "language": "python",
   "name": "python3"
  },
  "language_info": {
   "codemirror_mode": {
    "name": "ipython",
    "version": 3
   },
   "file_extension": ".py",
   "mimetype": "text/x-python",
   "name": "python",
   "nbconvert_exporter": "python",
   "pygments_lexer": "ipython3",
   "version": "3.7.4"
  }
 },
 "nbformat": 4,
 "nbformat_minor": 2
}
