{
 "cells": [
  {
   "cell_type": "code",
   "execution_count": null,
   "metadata": {},
   "outputs": [],
   "source": [
    "#do in joined csv\n",
    "\n",
    "with open('/Users/ydde/Desktop/BachelorgitWoS/Papers/' + name + '/' + name + '_joined.csv') as csvfile:\n",
    "    reader = csv.DictReader(csvfile)\n",
    "    parentnode = None\n",
    "    for row in reader:\n",
    "        node = row['Title'] + row['Year']\n",
    "        if len(row['Title'].split()) < 5:\n",
    "            author = row['Author']\n",
    "            if author == '[No author name available]':\n",
    "                author = 'unknownauthor'\n",
    "            node += author\n",
    "        node = alphanumeric_filter_lower(node)\n",
    "        if row['FAMILY_TYPE'] == 'PARENT':\n",
    "            parentnode = node\n",
    "            parent_node_list.append(node)\n",
    "        elif row['FAMILY_TYPE'] == 'CHILD':\n",
    "            group_matches_dictionary[parentnode].append(node)\n",
    "\n",
    "            \n",
    "def fuzzy_classification_author_year (author, year, reference_compare):\n",
    "    first_author = author.split(\",\")[0]\n",
    "    first_author = alphanumeric_filter_lower(first_author)\n",
    "    if first_author not in reference_compare:\n",
    "        if fuzz.partial_ratio(first_author, reference_compare) < 70:\n",
    "            if author == \"[No author name available]\":\n",
    "                if year_child not in reference_compare:\n",
    "                    return False\n",
    "            else:\n",
    "                return False\n",
    "    return True"
   ]
  }
 ],
 "metadata": {
  "kernelspec": {
   "display_name": "Python 3",
   "language": "python",
   "name": "python3"
  },
  "language_info": {
   "codemirror_mode": {
    "name": "ipython",
    "version": 3
   },
   "file_extension": ".py",
   "mimetype": "text/x-python",
   "name": "python",
   "nbconvert_exporter": "python",
   "pygments_lexer": "ipython3",
   "version": "3.7.4"
  }
 },
 "nbformat": 4,
 "nbformat_minor": 2
}
