{
 "cells": [
  {
   "cell_type": "code",
   "execution_count": 3,
   "metadata": {},
   "outputs": [
    {
     "name": "stdout",
     "output_type": "stream",
     "text": [
      "Baghizadhe2019 - loading\n",
      "Darcy2011 - loading\n",
      "Günther2017 - loading\n",
      "Moeini2019 - loading\n",
      "Oehlhorn2020 - loading\n",
      "Peireira2020 - loading\n",
      "Picollo2005 - loading\n",
      "Schneider2014 - loading\n",
      "Siponen2004 - loading\n",
      "Siponen2020 - loading\n",
      "Teubner2020 - loading\n",
      "Tsai2017 - loading\n",
      "Wiener2020 - loading\n",
      "XiaoXiao2013 - loading\n"
     ]
    }
   ],
   "source": [
    "import csv\n",
    "import numpy as np\n",
    "from collections import defaultdict\n",
    "import networkx as nx\n",
    "import igraph as ig\n",
    "import matplotlib.pyplot as plt\n",
    "import numpy as np\n",
    "\n",
    "# this file creates the direct citation and bibliographic coupling \n",
    "# for each corpus and exports these in the GEXF format\n",
    "\n",
    "papers = ['Baghizadeh2020', 'D_Arcy2011', 'Günther2017','Moeini2019', \n",
    "          'Oehlhorn2020', 'Peireira2020', 'Piccoli2005', 'Schneider2014',\n",
    "          'Siponen2004', 'Jiang2021', 'Teubner2020', 'Tsai2017',\n",
    "          'Wiener2020', 'Xiao2013']\n",
    "\n",
    "for name in papers:\n",
    "    print(name + \" - loading\")\n",
    "    group_matches_dictionary = defaultdict(list)\n",
    "    core_nodes = []\n",
    "    all_nodes = []\n",
    "\n",
    "    def alphanumeric_filter_lower(string):\n",
    "        alphanumeric_filter = filter(str.isalnum, string)\n",
    "        string = \"\".join(alphanumeric_filter)\n",
    "        string = string.lower()\n",
    "        return string\n",
    "\n",
    "    # Goes through each combined file and adds the core publications and its references to a combined dictionary\n",
    "    with open('./Papers/' + name + '/' + name + '_joined.csv') as csvfile:\n",
    "        reader = csv.DictReader(csvfile)\n",
    "        core_node = None\n",
    "        for row in reader:\n",
    "            node = row['Title']\n",
    "            if node == \"\":\n",
    "                continue\n",
    "            if len(row['Title'].split()) < 5:\n",
    "                author = row['Author'].split(\",\")\n",
    "                author = author[0]\n",
    "                # no comma more than one word, find max word since lastname the most likely to be fully appended\n",
    "                if len(author.split()) > 1:\n",
    "                    author_list = author.split()\n",
    "                    author = max(author_list, key=len)\n",
    "                if author == '[No author name available]':\n",
    "                    author = 'unknownauthor'\n",
    "                node += author\n",
    "            node += row['Year']\n",
    "            node = alphanumeric_filter_lower(node)\n",
    "            if row['FAMILY_TYPE'] == 'PARENT':\n",
    "                core_node = node\n",
    "                core_nodes.append(node)\n",
    "            elif row['FAMILY_TYPE'] == 'CHILD':\n",
    "                group_matches_dictionary[core_node].append(node)\n",
    "\n",
    "    #core publications without any references are deleted from the graph\n",
    "    for core_node in core_nodes:\n",
    "        if core_node not in group_matches_dictionary:\n",
    "            core_nodes.remove(core_node)\n",
    "            \n",
    "    # creates the direct citation graph from the dictionary\n",
    "    dc_graph = nx.DiGraph()\n",
    "\n",
    "    for key in group_matches_dictionary:\n",
    "        for line in group_matches_dictionary[key]:\n",
    "            dc_graph.add_edge(key, line)\n",
    "\n",
    "    # different node sizings for core publications and references\n",
    "    for node_id in dc_graph.nodes():\n",
    "        dc_graph.node[node_id]['viz'] = {'color': {'r': 105, 'g': 105, 'b': 105, 'a': 0}, 'size': 29}\n",
    "\n",
    "    for core_node_id in core_nodes:\n",
    "        dc_graph.node[core_node_id]['viz'] = {'color': {'r': 69, 'g': 91, 'b': 150, 'a': 0}, 'size': 30}\n",
    "\n",
    "    # export direct citation graph\n",
    "    nx.write_gexf(dc_graph, \"./graphs/\" + name + \"_dc.gexf\", version=\"1.2draft\")\n",
    "\n",
    "    # bibliographic coupling graph computation\n",
    "    adjazenz_matrix_unformatted = nx.adjacency_matrix(dc_graph)\n",
    "    adjazenz_matrix_unformatted = adjazenz_matrix_unformatted.todense()\n",
    "\n",
    "    # delete unrelevant columns\n",
    "    key = 0\n",
    "    for column in adjazenz_matrix_unformatted.transpose():\n",
    "        if(np.sum(column) <= 1):\n",
    "            adjazenz_matrix_unformatted = np.delete(adjazenz_matrix_unformatted, key, 1)\n",
    "        else:\n",
    "            key += 1\n",
    "\n",
    "    adjazenz_matrix = adjazenz_matrix_unformatted\n",
    "    adjazenz_matrix_transpose = adjazenz_matrix.transpose()\n",
    "\n",
    "    first_column_vector = np.ones((len(adjazenz_matrix), 1))\n",
    "    second_column_vector = np.ones((len(adjazenz_matrix_transpose), 1))\n",
    "\n",
    "    # formula retrieved from https://doi.org/10.1016/j.joi.2016.10.006\n",
    "    diagonal = adjazenz_matrix_transpose.dot(first_column_vector)\n",
    "    diagonal = np.array(np.subtract(diagonal, second_column_vector))\n",
    "    diagonal = diagonal.astype(float)\n",
    "    diagonal = diagonal ** -1\n",
    "    diagonal = np.diag(diagonal.T[0])\n",
    "\n",
    "    bc_adjazenz_matrix = np.matmul(np.matmul(adjazenz_matrix, diagonal), adjazenz_matrix_transpose)\n",
    "    \n",
    "    bc_graph = nx.from_numpy_matrix(bc_adjazenz_matrix, create_using = nx.Graph())\n",
    "    \n",
    "    # remove selfloops and isolated nodes\n",
    "    bc_graph.remove_edges_from(nx.selfloop_edges(bc_graph))\n",
    "    bc_graph.remove_nodes_from(list(nx.isolates(bc_graph)))\n",
    "\n",
    "    # exports bibliographic coupling graph\n",
    "    nx.write_gexf(bc_graph, \"./graphs/\" + name + \"_bc.gexf\", version=\"1.2draft\")"
   ]
  },
  {
   "cell_type": "code",
   "execution_count": null,
   "metadata": {},
   "outputs": [],
   "source": [
    "\n"
   ]
  },
  {
   "cell_type": "code",
   "execution_count": null,
   "metadata": {},
   "outputs": [],
   "source": []
  },
  {
   "cell_type": "code",
   "execution_count": null,
   "metadata": {},
   "outputs": [],
   "source": []
  },
  {
   "cell_type": "code",
   "execution_count": null,
   "metadata": {},
   "outputs": [],
   "source": []
  },
  {
   "cell_type": "code",
   "execution_count": null,
   "metadata": {},
   "outputs": [],
   "source": []
  },
  {
   "cell_type": "code",
   "execution_count": null,
   "metadata": {},
   "outputs": [],
   "source": []
  },
  {
   "cell_type": "code",
   "execution_count": null,
   "metadata": {},
   "outputs": [],
   "source": []
  },
  {
   "cell_type": "code",
   "execution_count": null,
   "metadata": {},
   "outputs": [],
   "source": []
  },
  {
   "cell_type": "code",
   "execution_count": null,
   "metadata": {},
   "outputs": [],
   "source": []
  },
  {
   "cell_type": "code",
   "execution_count": null,
   "metadata": {},
   "outputs": [],
   "source": []
  },
  {
   "cell_type": "code",
   "execution_count": null,
   "metadata": {},
   "outputs": [],
   "source": []
  },
  {
   "cell_type": "code",
   "execution_count": null,
   "metadata": {},
   "outputs": [],
   "source": []
  },
  {
   "cell_type": "code",
   "execution_count": null,
   "metadata": {},
   "outputs": [],
   "source": []
  },
  {
   "cell_type": "code",
   "execution_count": null,
   "metadata": {},
   "outputs": [],
   "source": []
  },
  {
   "cell_type": "code",
   "execution_count": null,
   "metadata": {},
   "outputs": [],
   "source": []
  }
 ],
 "metadata": {
  "kernelspec": {
   "display_name": "Python 3 (ipykernel)",
   "language": "python",
   "name": "python3"
  },
  "language_info": {
   "codemirror_mode": {
    "name": "ipython",
    "version": 3
   },
   "file_extension": ".py",
   "mimetype": "text/x-python",
   "name": "python",
   "nbconvert_exporter": "python",
   "pygments_lexer": "ipython3",
   "version": "3.7.4"
  }
 },
 "nbformat": 4,
 "nbformat_minor": 2
}
